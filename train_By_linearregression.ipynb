{
 "cells": [
  {
   "cell_type": "code",
   "execution_count": 183,
   "id": "de14a3f4",
   "metadata": {},
   "outputs": [],
   "source": [
    "import pandas as pd\n",
    "import numpy as np\n",
    "import tensorflow as tf\n",
    "from IPython.display import clear_output"
   ]
  },
  {
   "cell_type": "code",
   "execution_count": 184,
   "id": "55a15422",
   "metadata": {},
   "outputs": [
    {
     "data": {
      "text/plain": [
       "((891, 12),\n",
       " (836, 12),\n",
       "    PassengerId  Survived  Pclass  \\\n",
       " 0            1         0       3   \n",
       " 1            2         1       1   \n",
       " 2            3         1       3   \n",
       " 3            4         1       1   \n",
       " 4            5         0       3   \n",
       " \n",
       "                                                 Name     Sex   Age  SibSp  \\\n",
       " 0                            Braund, Mr. Owen Harris    male  22.0      1   \n",
       " 1  Cumings, Mrs. John Bradley (Florence Briggs Th...  female  38.0      1   \n",
       " 2                             Heikkinen, Miss. Laina  female  26.0      0   \n",
       " 3       Futrelle, Mrs. Jacques Heath (Lily May Peel)  female  35.0      1   \n",
       " 4                           Allen, Mr. William Henry    male  35.0      0   \n",
       " \n",
       "    Parch            Ticket     Fare Cabin Embarked  \n",
       " 0      0         A/5 21171   7.2500   NaN        S  \n",
       " 1      0          PC 17599  71.2833   C85        C  \n",
       " 2      0  STON/O2. 3101282   7.9250   NaN        S  \n",
       " 3      0            113803  53.1000  C123        S  \n",
       " 4      0            373450   8.0500   NaN        S  )"
      ]
     },
     "execution_count": 184,
     "metadata": {},
     "output_type": "execute_result"
    }
   ],
   "source": [
    "# Training Data\n",
    "x_train = pd.read_csv(\"titanic_data/train.csv\",\n",
    "                 na_values=['', '?', '-'],skip_blank_lines=False)\n",
    "# Testing Data\n",
    "test = pd.read_csv(\"titanic_data/test.csv\",\n",
    "                 na_values=['', '?', '-'],skip_blank_lines=False)\n",
    "y_test = pd.read_csv(\"titanic_data/gender_submission.csv\",\n",
    "                 na_values=['', '?', '-'], skip_blank_lines=False)\n",
    "\n",
    "x_test = pd.concat([test,y_test]) # Concatinating two dataframes\n",
    "\n",
    "x_train.shape , x_test.shape,x_train.head()"
   ]
  },
  {
   "cell_type": "markdown",
   "id": "2639e082",
   "metadata": {},
   "source": [
    "###  CLearning and filling data\n"
   ]
  },
  {
   "cell_type": "code",
   "execution_count": 185,
   "id": "f44130ff",
   "metadata": {},
   "outputs": [
    {
     "data": {
      "text/plain": [
       "PassengerId    0\n",
       "Survived       0\n",
       "Pclass         0\n",
       "Name           0\n",
       "Sex            0\n",
       "Age            0\n",
       "SibSp          0\n",
       "Parch          0\n",
       "Ticket         0\n",
       "Fare           0\n",
       "Cabin          0\n",
       "Embarked       0\n",
       "dtype: int64"
      ]
     },
     "execution_count": 185,
     "metadata": {},
     "output_type": "execute_result"
    }
   ],
   "source": [
    "# Training data\n",
    "x_train = x_train.fillna(method='ffill')\n",
    "x_train = x_train.fillna(method='bfill')\n",
    "x_train.isnull().sum()"
   ]
  },
  {
   "cell_type": "code",
   "execution_count": 186,
   "id": "db783e1a",
   "metadata": {},
   "outputs": [
    {
     "data": {
      "text/plain": [
       "PassengerId    0\n",
       "Pclass         0\n",
       "Name           0\n",
       "Sex            0\n",
       "Age            0\n",
       "SibSp          0\n",
       "Parch          0\n",
       "Ticket         0\n",
       "Fare           0\n",
       "Cabin          0\n",
       "Embarked       0\n",
       "Survived       0\n",
       "dtype: int64"
      ]
     },
     "execution_count": 186,
     "metadata": {},
     "output_type": "execute_result"
    }
   ],
   "source": [
    "# Testing Data\n",
    "x_test = x_test.fillna(method='bfill')\n",
    "x_test = x_test.fillna(method='ffill')\n",
    "x_test.isnull().sum()"
   ]
  },
  {
   "cell_type": "markdown",
   "id": "893cd839",
   "metadata": {},
   "source": [
    "### **Survival rate on Titanic**"
   ]
  },
  {
   "cell_type": "code",
   "execution_count": 187,
   "id": "a7c8c06d",
   "metadata": {},
   "outputs": [
    {
     "name": "stdout",
     "output_type": "stream",
     "text": [
      "Survival Rate of males on Train data :  0.18890814558058924\n",
      "Survival Rate of males on Test data :  0.1821705426356589\n"
     ]
    }
   ],
   "source": [
    "# Males\n",
    "train_males = x_train.loc[x_train.Sex == 'male'][\"Survived\"]\n",
    "test_males = x_test.loc[x_train.Sex=='male']['Survived']\n",
    "\n",
    "train_prob = sum(train_males)/len(train_males)\n",
    "test_prob= sum(test_males)/len(test_males)\n",
    "print(\"Survival Rate of males on Train data : \",train_prob)\n",
    "print(\"Survival Rate of males on Test data : \",test_prob)"
   ]
  },
  {
   "cell_type": "code",
   "execution_count": 188,
   "id": "0d44e9c7",
   "metadata": {},
   "outputs": [
    {
     "name": "stdout",
     "output_type": "stream",
     "text": [
      "Survival Rate of females on Train data :  0.7420382165605095\n",
      "Survival Rate of females on Test data :  0.18125\n"
     ]
    },
    {
     "data": {
      "text/plain": [
       "1      0.0\n",
       "2      0.0\n",
       "3      0.0\n",
       "8      0.0\n",
       "9      0.0\n",
       "      ... \n",
       "409    1.0\n",
       "412    1.0\n",
       "415    0.0\n",
       "416    0.0\n",
       "417    0.0\n",
       "Name: Survived, Length: 320, dtype: float64"
      ]
     },
     "execution_count": 188,
     "metadata": {},
     "output_type": "execute_result"
    }
   ],
   "source": [
    "# females\n",
    "train_females = x_train.loc[x_train.Sex == 'female'][\"Survived\"]\n",
    "test_females = x_test.loc[x_train.Sex=='female']['Survived']\n",
    "\n",
    "train_prob = sum(train_females)/len(train_females)\n",
    "test_prob= sum(test_females)/len(test_females)\n",
    "print(\"Survival Rate of females on Train data : \",train_prob)\n",
    "print(\"Survival Rate of females on Test data : \",test_prob)\n",
    "test_females"
   ]
  },
  {
   "cell_type": "code",
   "execution_count": 192,
   "id": "b644d54f",
   "metadata": {},
   "outputs": [
    {
     "data": {
      "text/plain": [
       "((891,), (836,), (891, 11), (836, 11))"
      ]
     },
     "execution_count": 192,
     "metadata": {},
     "output_type": "execute_result"
    }
   ],
   "source": [
    "y_train = x_train.pop('Survived')\n",
    "y_test = x_test.pop('Survived')\n",
    "y_train.shape , y_test.shape ,x_train.shape, x_test.shape"
   ]
  },
  {
   "cell_type": "code",
   "execution_count": 193,
   "id": "32ad9fcc",
   "metadata": {},
   "outputs": [
    {
     "data": {
      "text/html": [
       "<div>\n",
       "<style scoped>\n",
       "    .dataframe tbody tr th:only-of-type {\n",
       "        vertical-align: middle;\n",
       "    }\n",
       "\n",
       "    .dataframe tbody tr th {\n",
       "        vertical-align: top;\n",
       "    }\n",
       "\n",
       "    .dataframe thead th {\n",
       "        text-align: right;\n",
       "    }\n",
       "</style>\n",
       "<table border=\"1\" class=\"dataframe\">\n",
       "  <thead>\n",
       "    <tr style=\"text-align: right;\">\n",
       "      <th></th>\n",
       "      <th>key</th>\n",
       "      <th>vocabulary_list</th>\n",
       "      <th>dtype</th>\n",
       "      <th>default_value</th>\n",
       "      <th>num_oov_buckets</th>\n",
       "    </tr>\n",
       "  </thead>\n",
       "  <tbody>\n",
       "    <tr>\n",
       "      <th>0</th>\n",
       "      <td>Name</td>\n",
       "      <td>(Braund, Mr. Owen Harris, Cumings, Mrs. John B...</td>\n",
       "      <td>&lt;dtype: 'string'&gt;</td>\n",
       "      <td>-1</td>\n",
       "      <td>0.0</td>\n",
       "    </tr>\n",
       "    <tr>\n",
       "      <th>1</th>\n",
       "      <td>Sex</td>\n",
       "      <td>(male, female)</td>\n",
       "      <td>&lt;dtype: 'string'&gt;</td>\n",
       "      <td>-1</td>\n",
       "      <td>0.0</td>\n",
       "    </tr>\n",
       "    <tr>\n",
       "      <th>2</th>\n",
       "      <td>Ticket</td>\n",
       "      <td>(A/5 21171, PC 17599, STON/O2. 3101282, 113803...</td>\n",
       "      <td>&lt;dtype: 'string'&gt;</td>\n",
       "      <td>-1</td>\n",
       "      <td>0.0</td>\n",
       "    </tr>\n",
       "    <tr>\n",
       "      <th>3</th>\n",
       "      <td>Cabin</td>\n",
       "      <td>(C85, C123, E46, G6, C103, D56, A6, C23 C25 C2...</td>\n",
       "      <td>&lt;dtype: 'string'&gt;</td>\n",
       "      <td>-1</td>\n",
       "      <td>0.0</td>\n",
       "    </tr>\n",
       "    <tr>\n",
       "      <th>4</th>\n",
       "      <td>Embarked</td>\n",
       "      <td>(S, C, Q)</td>\n",
       "      <td>&lt;dtype: 'string'&gt;</td>\n",
       "      <td>-1</td>\n",
       "      <td>0.0</td>\n",
       "    </tr>\n",
       "  </tbody>\n",
       "</table>\n",
       "</div>"
      ],
      "text/plain": [
       "        key                                    vocabulary_list  \\\n",
       "0      Name  (Braund, Mr. Owen Harris, Cumings, Mrs. John B...   \n",
       "1       Sex                                     (male, female)   \n",
       "2    Ticket  (A/5 21171, PC 17599, STON/O2. 3101282, 113803...   \n",
       "3     Cabin  (C85, C123, E46, G6, C103, D56, A6, C23 C25 C2...   \n",
       "4  Embarked                                          (S, C, Q)   \n",
       "\n",
       "               dtype default_value  num_oov_buckets  \n",
       "0  <dtype: 'string'>            -1              0.0  \n",
       "1  <dtype: 'string'>            -1              0.0  \n",
       "2  <dtype: 'string'>            -1              0.0  \n",
       "3  <dtype: 'string'>            -1              0.0  \n",
       "4  <dtype: 'string'>            -1              0.0  "
      ]
     },
     "execution_count": 193,
     "metadata": {},
     "output_type": "execute_result"
    }
   ],
   "source": [
    "CATEGORICAL_COLUMN = [\"Name\" , \"Sex\" , \"Ticket\",\"Cabin\",\"Embarked\"]\n",
    "NUMERICAL_COLUMN = [\"PassengerId\" , \"Pclass\",\"Age\",\"SibSp\",\"Parch\", \"Fare\"]\n",
    "features_column = []\n",
    "\n",
    "for feature_name in CATEGORICAL_COLUMN :\n",
    "    vocab = x_train[feature_name].unique()\n",
    "    features_column.append(tf.feature_column.categorical_column_with_vocabulary_list(feature_name,vocab))\n",
    "\n",
    "for feature_name in NUMERICAL_COLUMN :\n",
    "    features_column.append(tf.feature_column.numeric_column(feature_name, dtype=tf.float32))\n",
    "s = pd.DataFrame(features_column)\n",
    "s.head()"
   ]
  },
  {
   "cell_type": "code",
   "execution_count": 194,
   "id": "25a1c02b",
   "metadata": {},
   "outputs": [],
   "source": [
    "# Input Function\n",
    "def make_input_fn(data_df , label_df , num_epochs=10, shuffle=True , batch_size=32):\n",
    "    def input_function(): #inner function, this will be returned\n",
    "        # Create tf.data.Dataset object with data and its label\n",
    "        ds = tf.data.Dataset.from_tensor_slices((dict(data_df), label_df))\n",
    "        if shuffle :\n",
    "            ds = ds.shuffle(1000) #random order of data\n",
    "        ds = ds.batch(batch_size).repeat(num_epochs)#split dataset into batches of 32 and repeat process for number of epochs\n",
    "        return ds # return a batch of dataset\n",
    "    return input_function # return a function object for use\n",
    "\n",
    "# here we will call the input function that was return to\n",
    "train_eval = make_input_fn(x_train , y_train,50) \n",
    "test_eval = make_input_fn(x_test , y_test , num_epochs=1 , shuffle=False)"
   ]
  },
  {
   "cell_type": "code",
   "execution_count": 195,
   "id": "389c4f95",
   "metadata": {},
   "outputs": [
    {
     "name": "stdout",
     "output_type": "stream",
     "text": [
      "INFO:tensorflow:Using default config.\n",
      "WARNING:tensorflow:Using temporary folder as model directory: C:\\Users\\india\\AppData\\Local\\Temp\\tmpori2_akz\n",
      "INFO:tensorflow:Using config: {'_model_dir': 'C:\\\\Users\\\\india\\\\AppData\\\\Local\\\\Temp\\\\tmpori2_akz', '_tf_random_seed': None, '_save_summary_steps': 100, '_save_checkpoints_steps': None, '_save_checkpoints_secs': 600, '_session_config': allow_soft_placement: true\n",
      "graph_options {\n",
      "  rewrite_options {\n",
      "    meta_optimizer_iterations: ONE\n",
      "  }\n",
      "}\n",
      ", '_keep_checkpoint_max': 5, '_keep_checkpoint_every_n_hours': 10000, '_log_step_count_steps': 100, '_train_distribute': None, '_device_fn': None, '_protocol': None, '_eval_distribute': None, '_experimental_distribute': None, '_experimental_max_worker_delay_secs': None, '_session_creation_timeout_secs': 7200, '_checkpoint_save_graph_def': True, '_service': None, '_cluster_spec': ClusterSpec({}), '_task_type': 'worker', '_task_id': 0, '_global_id_in_cluster': 0, '_master': '', '_evaluation_master': '', '_is_chief': True, '_num_ps_replicas': 0, '_num_worker_replicas': 1}\n"
     ]
    }
   ],
   "source": [
    "# Creating Model\n",
    "\n",
    "# we are creating linear estimator by passing feature_columns we created earlier. \n",
    "linear_est = tf.estimator.LinearClassifier(feature_columns=features_column)"
   ]
  },
  {
   "cell_type": "code",
   "execution_count": 200,
   "id": "abf65c8a",
   "metadata": {},
   "outputs": [
    {
     "name": "stdout",
     "output_type": "stream",
     "text": [
      "INFO:tensorflow:Calling model_fn.\n",
      "INFO:tensorflow:Done calling model_fn.\n",
      "INFO:tensorflow:Create CheckpointSaverHook.\n",
      "INFO:tensorflow:Graph was finalized.\n",
      "INFO:tensorflow:Restoring parameters from C:\\Users\\india\\AppData\\Local\\Temp\\tmpori2_akz\\model.ckpt-2800\n",
      "INFO:tensorflow:Running local_init_op.\n",
      "INFO:tensorflow:Done running local_init_op.\n",
      "INFO:tensorflow:Calling checkpoint listeners before saving checkpoint 2800...\n",
      "INFO:tensorflow:Saving checkpoints for 2800 into C:\\Users\\india\\AppData\\Local\\Temp\\tmpori2_akz\\model.ckpt.\n",
      "INFO:tensorflow:Calling checkpoint listeners after saving checkpoint 2800...\n",
      "INFO:tensorflow:loss = 0.11725638, step = 2800\n",
      "INFO:tensorflow:global_step/sec: 151.346\n",
      "INFO:tensorflow:loss = 0.16228506, step = 2900 (0.661 sec)\n",
      "INFO:tensorflow:global_step/sec: 401.844\n",
      "INFO:tensorflow:loss = 0.09470825, step = 3000 (0.249 sec)\n",
      "INFO:tensorflow:global_step/sec: 396.081\n",
      "INFO:tensorflow:loss = 0.13054581, step = 3100 (0.256 sec)\n",
      "INFO:tensorflow:global_step/sec: 399.839\n",
      "INFO:tensorflow:loss = 0.14536333, step = 3200 (0.251 sec)\n",
      "INFO:tensorflow:global_step/sec: 403.782\n",
      "INFO:tensorflow:loss = 0.09639562, step = 3300 (0.251 sec)\n",
      "INFO:tensorflow:global_step/sec: 390.196\n",
      "INFO:tensorflow:loss = 0.08167136, step = 3400 (0.249 sec)\n",
      "INFO:tensorflow:global_step/sec: 394.935\n",
      "INFO:tensorflow:loss = 0.09464072, step = 3500 (0.253 sec)\n",
      "INFO:tensorflow:global_step/sec: 405.393\n",
      "INFO:tensorflow:loss = 0.12223614, step = 3600 (0.247 sec)\n",
      "INFO:tensorflow:global_step/sec: 396.788\n",
      "INFO:tensorflow:loss = 0.07745495, step = 3700 (0.252 sec)\n",
      "INFO:tensorflow:global_step/sec: 417.332\n",
      "INFO:tensorflow:loss = 0.09256171, step = 3800 (0.249 sec)\n",
      "INFO:tensorflow:global_step/sec: 387.33\n",
      "INFO:tensorflow:loss = 0.113266975, step = 3900 (0.249 sec)\n",
      "INFO:tensorflow:global_step/sec: 407.065\n",
      "INFO:tensorflow:loss = 0.09907061, step = 4000 (0.250 sec)\n",
      "INFO:tensorflow:global_step/sec: 390.35\n",
      "INFO:tensorflow:loss = 0.096390486, step = 4100 (0.252 sec)\n",
      "INFO:tensorflow:Calling checkpoint listeners before saving checkpoint 4200...\n",
      "INFO:tensorflow:Saving checkpoints for 4200 into C:\\Users\\india\\AppData\\Local\\Temp\\tmpori2_akz\\model.ckpt.\n",
      "INFO:tensorflow:Calling checkpoint listeners after saving checkpoint 4200...\n",
      "INFO:tensorflow:Loss for final step: 0.113297366.\n"
     ]
    },
    {
     "data": {
      "text/plain": [
       "<tensorflow_estimator.python.estimator.canned.linear.LinearClassifierV2 at 0x1863dbb2760>"
      ]
     },
     "execution_count": 200,
     "metadata": {},
     "output_type": "execute_result"
    }
   ],
   "source": [
    "# Training\n",
    "linear_est.train(train_eval) #train\n"
   ]
  },
  {
   "cell_type": "code",
   "execution_count": 201,
   "id": "4c1c6949",
   "metadata": {},
   "outputs": [
    {
     "name": "stdout",
     "output_type": "stream",
     "text": [
      "0.6447368\n"
     ]
    }
   ],
   "source": [
    "# Testing Model\n",
    "result = linear_est.evaluate(test_eval) # get model metrics/stats by testing on testing data\n",
    "\n",
    "clear_output() # it clears the console output\n",
    "print(result['accuracy']) # the result varaible is simply a dict of stats about our model"
   ]
  },
  {
   "cell_type": "code",
   "execution_count": 202,
   "id": "74f2dcea",
   "metadata": {},
   "outputs": [
    {
     "data": {
      "text/html": [
       "<div>\n",
       "<style scoped>\n",
       "    .dataframe tbody tr th:only-of-type {\n",
       "        vertical-align: middle;\n",
       "    }\n",
       "\n",
       "    .dataframe tbody tr th {\n",
       "        vertical-align: top;\n",
       "    }\n",
       "\n",
       "    .dataframe thead th {\n",
       "        text-align: right;\n",
       "    }\n",
       "</style>\n",
       "<table border=\"1\" class=\"dataframe\">\n",
       "  <thead>\n",
       "    <tr style=\"text-align: right;\">\n",
       "      <th></th>\n",
       "      <th>accuracy</th>\n",
       "      <th>accuracy_baseline</th>\n",
       "      <th>auc</th>\n",
       "      <th>auc_precision_recall</th>\n",
       "      <th>average_loss</th>\n",
       "      <th>label/mean</th>\n",
       "      <th>loss</th>\n",
       "      <th>precision</th>\n",
       "      <th>prediction/mean</th>\n",
       "      <th>recall</th>\n",
       "      <th>global_step</th>\n",
       "    </tr>\n",
       "  </thead>\n",
       "  <tbody>\n",
       "    <tr>\n",
       "      <th>1</th>\n",
       "      <td>0.644737</td>\n",
       "      <td>0.818182</td>\n",
       "      <td>0.472948</td>\n",
       "      <td>0.157187</td>\n",
       "      <td>0.842885</td>\n",
       "      <td>0.181818</td>\n",
       "      <td>0.837177</td>\n",
       "      <td>0.0</td>\n",
       "      <td>0.220219</td>\n",
       "      <td>0.0</td>\n",
       "      <td>4200</td>\n",
       "    </tr>\n",
       "    <tr>\n",
       "      <th>2</th>\n",
       "      <td>0.644737</td>\n",
       "      <td>0.818182</td>\n",
       "      <td>0.472948</td>\n",
       "      <td>0.157187</td>\n",
       "      <td>0.842885</td>\n",
       "      <td>0.181818</td>\n",
       "      <td>0.837177</td>\n",
       "      <td>0.0</td>\n",
       "      <td>0.220219</td>\n",
       "      <td>0.0</td>\n",
       "      <td>4200</td>\n",
       "    </tr>\n",
       "    <tr>\n",
       "      <th>3</th>\n",
       "      <td>0.644737</td>\n",
       "      <td>0.818182</td>\n",
       "      <td>0.472948</td>\n",
       "      <td>0.157187</td>\n",
       "      <td>0.842885</td>\n",
       "      <td>0.181818</td>\n",
       "      <td>0.837177</td>\n",
       "      <td>0.0</td>\n",
       "      <td>0.220219</td>\n",
       "      <td>0.0</td>\n",
       "      <td>4200</td>\n",
       "    </tr>\n",
       "    <tr>\n",
       "      <th>4</th>\n",
       "      <td>0.644737</td>\n",
       "      <td>0.818182</td>\n",
       "      <td>0.472948</td>\n",
       "      <td>0.157187</td>\n",
       "      <td>0.842885</td>\n",
       "      <td>0.181818</td>\n",
       "      <td>0.837177</td>\n",
       "      <td>0.0</td>\n",
       "      <td>0.220219</td>\n",
       "      <td>0.0</td>\n",
       "      <td>4200</td>\n",
       "    </tr>\n",
       "    <tr>\n",
       "      <th>5</th>\n",
       "      <td>0.644737</td>\n",
       "      <td>0.818182</td>\n",
       "      <td>0.472948</td>\n",
       "      <td>0.157187</td>\n",
       "      <td>0.842885</td>\n",
       "      <td>0.181818</td>\n",
       "      <td>0.837177</td>\n",
       "      <td>0.0</td>\n",
       "      <td>0.220219</td>\n",
       "      <td>0.0</td>\n",
       "      <td>4200</td>\n",
       "    </tr>\n",
       "  </tbody>\n",
       "</table>\n",
       "</div>"
      ],
      "text/plain": [
       "   accuracy  accuracy_baseline       auc  auc_precision_recall  average_loss  \\\n",
       "1  0.644737           0.818182  0.472948              0.157187      0.842885   \n",
       "2  0.644737           0.818182  0.472948              0.157187      0.842885   \n",
       "3  0.644737           0.818182  0.472948              0.157187      0.842885   \n",
       "4  0.644737           0.818182  0.472948              0.157187      0.842885   \n",
       "5  0.644737           0.818182  0.472948              0.157187      0.842885   \n",
       "\n",
       "   label/mean      loss  precision  prediction/mean  recall  global_step  \n",
       "1    0.181818  0.837177        0.0         0.220219     0.0         4200  \n",
       "2    0.181818  0.837177        0.0         0.220219     0.0         4200  \n",
       "3    0.181818  0.837177        0.0         0.220219     0.0         4200  \n",
       "4    0.181818  0.837177        0.0         0.220219     0.0         4200  \n",
       "5    0.181818  0.837177        0.0         0.220219     0.0         4200  "
      ]
     },
     "execution_count": 202,
     "metadata": {},
     "output_type": "execute_result"
    }
   ],
   "source": [
    "result = pd.DataFrame(result, index=[i for i in range(1,len(result)+1)])\n",
    "result.head()"
   ]
  },
  {
   "cell_type": "code",
   "execution_count": 204,
   "id": "280c17d1",
   "metadata": {},
   "outputs": [
    {
     "name": "stdout",
     "output_type": "stream",
     "text": [
      "INFO:tensorflow:Calling model_fn.\n"
     ]
    },
    {
     "name": "stderr",
     "output_type": "stream",
     "text": [
      "c:\\users\\india\\appdata\\local\\programs\\python\\python38\\lib\\site-packages\\tensorflow_estimator\\python\\estimator\\canned\\linear.py:1468: UserWarning: `layer.add_variable` is deprecated and will be removed in a future version. Please use `layer.add_weight` method instead.\n",
      "  self.bias = self.add_variable(\n"
     ]
    },
    {
     "name": "stdout",
     "output_type": "stream",
     "text": [
      "INFO:tensorflow:Done calling model_fn.\n",
      "INFO:tensorflow:Graph was finalized.\n",
      "INFO:tensorflow:Restoring parameters from C:\\Users\\india\\AppData\\Local\\Temp\\tmpori2_akz\\model.ckpt-4200\n",
      "INFO:tensorflow:Running local_init_op.\n",
      "INFO:tensorflow:Done running local_init_op.\n"
     ]
    }
   ],
   "source": [
    "# Predicting from our model\n",
    "predicted = list(linear_est.predict(test_eval))"
   ]
  },
  {
   "cell_type": "code",
   "execution_count": 212,
   "id": "66172857",
   "metadata": {},
   "outputs": [
    {
     "name": "stdout",
     "output_type": "stream",
     "text": [
      "Chances of Surviving :  0.4112583\n",
      "Chances of not Surviving :  0.5887418\n",
      "   PassengerId  Pclass                              Name     Sex   Age  SibSp  \\\n",
      "1          893     3.0  Wilkes, Mrs. James (Ellen Needs)  female  47.0    1.0   \n",
      "1          893     3.0          Peter, Master. Michael J    male  38.5    1.0   \n",
      "\n",
      "   Parch  Ticket     Fare Cabin Embarked  \n",
      "1    0.0  363272   7.0000   B45        S  \n",
      "1    1.0    2668  22.3583  C105        C  \n"
     ]
    }
   ],
   "source": [
    "print(\"Chances of Surviving : \",predicted[1]['probabilities'][1])\n",
    "print(\"Chances of not Surviving : \",predicted[1]['probabilities'][0])\n",
    "print(x_test.loc[1])"
   ]
  },
  {
   "cell_type": "code",
   "execution_count": 232,
   "id": "c49ad53b",
   "metadata": {},
   "outputs": [
    {
     "data": {
      "text/html": [
       "<div>\n",
       "<style scoped>\n",
       "    .dataframe tbody tr th:only-of-type {\n",
       "        vertical-align: middle;\n",
       "    }\n",
       "\n",
       "    .dataframe tbody tr th {\n",
       "        vertical-align: top;\n",
       "    }\n",
       "\n",
       "    .dataframe thead th {\n",
       "        text-align: right;\n",
       "    }\n",
       "</style>\n",
       "<table border=\"1\" class=\"dataframe\">\n",
       "  <thead>\n",
       "    <tr style=\"text-align: right;\">\n",
       "      <th></th>\n",
       "      <th>survived</th>\n",
       "      <th>not_survived</th>\n",
       "    </tr>\n",
       "  </thead>\n",
       "  <tbody>\n",
       "    <tr>\n",
       "      <th>400</th>\n",
       "      <td>0.982868</td>\n",
       "      <td>0.017132</td>\n",
       "    </tr>\n",
       "    <tr>\n",
       "      <th>401</th>\n",
       "      <td>0.035270</td>\n",
       "      <td>0.964730</td>\n",
       "    </tr>\n",
       "    <tr>\n",
       "      <th>402</th>\n",
       "      <td>0.957997</td>\n",
       "      <td>0.042003</td>\n",
       "    </tr>\n",
       "    <tr>\n",
       "      <th>403</th>\n",
       "      <td>0.120968</td>\n",
       "      <td>0.879032</td>\n",
       "    </tr>\n",
       "    <tr>\n",
       "      <th>404</th>\n",
       "      <td>0.146989</td>\n",
       "      <td>0.853011</td>\n",
       "    </tr>\n",
       "    <tr>\n",
       "      <th>...</th>\n",
       "      <td>...</td>\n",
       "      <td>...</td>\n",
       "    </tr>\n",
       "    <tr>\n",
       "      <th>495</th>\n",
       "      <td>0.099881</td>\n",
       "      <td>0.900119</td>\n",
       "    </tr>\n",
       "    <tr>\n",
       "      <th>496</th>\n",
       "      <td>0.099860</td>\n",
       "      <td>0.900140</td>\n",
       "    </tr>\n",
       "    <tr>\n",
       "      <th>497</th>\n",
       "      <td>0.099839</td>\n",
       "      <td>0.900161</td>\n",
       "    </tr>\n",
       "    <tr>\n",
       "      <th>498</th>\n",
       "      <td>0.099819</td>\n",
       "      <td>0.900181</td>\n",
       "    </tr>\n",
       "    <tr>\n",
       "      <th>499</th>\n",
       "      <td>0.099798</td>\n",
       "      <td>0.900202</td>\n",
       "    </tr>\n",
       "  </tbody>\n",
       "</table>\n",
       "<p>100 rows × 2 columns</p>\n",
       "</div>"
      ],
      "text/plain": [
       "     survived  not_survived\n",
       "400  0.982868      0.017132\n",
       "401  0.035270      0.964730\n",
       "402  0.957997      0.042003\n",
       "403  0.120968      0.879032\n",
       "404  0.146989      0.853011\n",
       "..        ...           ...\n",
       "495  0.099881      0.900119\n",
       "496  0.099860      0.900140\n",
       "497  0.099839      0.900161\n",
       "498  0.099819      0.900181\n",
       "499  0.099798      0.900202\n",
       "\n",
       "[100 rows x 2 columns]"
      ]
     },
     "execution_count": 232,
     "metadata": {},
     "output_type": "execute_result"
    }
   ],
   "source": [
    "r = pd.DataFrame(predicted)\n",
    "p = r.loc[:]['probabilities']\n",
    "survived = []\n",
    "not_survived = []\n",
    "for i,j in p :\n",
    "    not_survived.append(i)\n",
    "    survived.append(j)\n",
    "data = {\n",
    "    \"survived\" : survived,\n",
    "    \"not_survived\" : not_survived\n",
    "}\n",
    "\n",
    "data = pd.DataFrame(data)\n",
    "data.loc[:][400:500]"
   ]
  },
  {
   "cell_type": "code",
   "execution_count": 230,
   "id": "7dee685b",
   "metadata": {},
   "outputs": [
    {
     "data": {
      "text/html": [
       "<div>\n",
       "<style scoped>\n",
       "    .dataframe tbody tr th:only-of-type {\n",
       "        vertical-align: middle;\n",
       "    }\n",
       "\n",
       "    .dataframe tbody tr th {\n",
       "        vertical-align: top;\n",
       "    }\n",
       "\n",
       "    .dataframe thead th {\n",
       "        text-align: right;\n",
       "    }\n",
       "</style>\n",
       "<table border=\"1\" class=\"dataframe\">\n",
       "  <thead>\n",
       "    <tr style=\"text-align: right;\">\n",
       "      <th></th>\n",
       "      <th>PassengerId</th>\n",
       "      <th>Pclass</th>\n",
       "      <th>Name</th>\n",
       "      <th>Sex</th>\n",
       "      <th>Age</th>\n",
       "      <th>SibSp</th>\n",
       "      <th>Parch</th>\n",
       "      <th>Ticket</th>\n",
       "      <th>Fare</th>\n",
       "      <th>Cabin</th>\n",
       "      <th>Embarked</th>\n",
       "    </tr>\n",
       "  </thead>\n",
       "  <tbody>\n",
       "    <tr>\n",
       "      <th>400</th>\n",
       "      <td>1292</td>\n",
       "      <td>1.0</td>\n",
       "      <td>Bonnell, Miss. Caroline</td>\n",
       "      <td>female</td>\n",
       "      <td>30.0</td>\n",
       "      <td>0.0</td>\n",
       "      <td>0.0</td>\n",
       "      <td>36928</td>\n",
       "      <td>164.8667</td>\n",
       "      <td>C7</td>\n",
       "      <td>S</td>\n",
       "    </tr>\n",
       "    <tr>\n",
       "      <th>401</th>\n",
       "      <td>1293</td>\n",
       "      <td>2.0</td>\n",
       "      <td>Gale, Mr. Harry</td>\n",
       "      <td>male</td>\n",
       "      <td>38.0</td>\n",
       "      <td>1.0</td>\n",
       "      <td>0.0</td>\n",
       "      <td>28664</td>\n",
       "      <td>21.0000</td>\n",
       "      <td>D40</td>\n",
       "      <td>S</td>\n",
       "    </tr>\n",
       "    <tr>\n",
       "      <th>402</th>\n",
       "      <td>1294</td>\n",
       "      <td>1.0</td>\n",
       "      <td>Gibson, Miss. Dorothy Winifred</td>\n",
       "      <td>female</td>\n",
       "      <td>22.0</td>\n",
       "      <td>0.0</td>\n",
       "      <td>1.0</td>\n",
       "      <td>112378</td>\n",
       "      <td>59.4000</td>\n",
       "      <td>D40</td>\n",
       "      <td>C</td>\n",
       "    </tr>\n",
       "    <tr>\n",
       "      <th>403</th>\n",
       "      <td>1295</td>\n",
       "      <td>1.0</td>\n",
       "      <td>Carrau, Mr. Jose Pedro</td>\n",
       "      <td>male</td>\n",
       "      <td>17.0</td>\n",
       "      <td>0.0</td>\n",
       "      <td>0.0</td>\n",
       "      <td>113059</td>\n",
       "      <td>47.1000</td>\n",
       "      <td>D40</td>\n",
       "      <td>S</td>\n",
       "    </tr>\n",
       "    <tr>\n",
       "      <th>404</th>\n",
       "      <td>1296</td>\n",
       "      <td>1.0</td>\n",
       "      <td>Frauenthal, Mr. Isaac Gerald</td>\n",
       "      <td>male</td>\n",
       "      <td>43.0</td>\n",
       "      <td>1.0</td>\n",
       "      <td>0.0</td>\n",
       "      <td>17765</td>\n",
       "      <td>27.7208</td>\n",
       "      <td>D40</td>\n",
       "      <td>C</td>\n",
       "    </tr>\n",
       "    <tr>\n",
       "      <th>...</th>\n",
       "      <td>...</td>\n",
       "      <td>...</td>\n",
       "      <td>...</td>\n",
       "      <td>...</td>\n",
       "      <td>...</td>\n",
       "      <td>...</td>\n",
       "      <td>...</td>\n",
       "      <td>...</td>\n",
       "      <td>...</td>\n",
       "      <td>...</td>\n",
       "      <td>...</td>\n",
       "    </tr>\n",
       "    <tr>\n",
       "      <th>77</th>\n",
       "      <td>969</td>\n",
       "      <td>3.0</td>\n",
       "      <td>Peter, Master. Michael J</td>\n",
       "      <td>male</td>\n",
       "      <td>38.5</td>\n",
       "      <td>1.0</td>\n",
       "      <td>1.0</td>\n",
       "      <td>2668</td>\n",
       "      <td>22.3583</td>\n",
       "      <td>C105</td>\n",
       "      <td>C</td>\n",
       "    </tr>\n",
       "    <tr>\n",
       "      <th>78</th>\n",
       "      <td>970</td>\n",
       "      <td>3.0</td>\n",
       "      <td>Peter, Master. Michael J</td>\n",
       "      <td>male</td>\n",
       "      <td>38.5</td>\n",
       "      <td>1.0</td>\n",
       "      <td>1.0</td>\n",
       "      <td>2668</td>\n",
       "      <td>22.3583</td>\n",
       "      <td>C105</td>\n",
       "      <td>C</td>\n",
       "    </tr>\n",
       "    <tr>\n",
       "      <th>79</th>\n",
       "      <td>971</td>\n",
       "      <td>3.0</td>\n",
       "      <td>Peter, Master. Michael J</td>\n",
       "      <td>male</td>\n",
       "      <td>38.5</td>\n",
       "      <td>1.0</td>\n",
       "      <td>1.0</td>\n",
       "      <td>2668</td>\n",
       "      <td>22.3583</td>\n",
       "      <td>C105</td>\n",
       "      <td>C</td>\n",
       "    </tr>\n",
       "    <tr>\n",
       "      <th>80</th>\n",
       "      <td>972</td>\n",
       "      <td>3.0</td>\n",
       "      <td>Peter, Master. Michael J</td>\n",
       "      <td>male</td>\n",
       "      <td>38.5</td>\n",
       "      <td>1.0</td>\n",
       "      <td>1.0</td>\n",
       "      <td>2668</td>\n",
       "      <td>22.3583</td>\n",
       "      <td>C105</td>\n",
       "      <td>C</td>\n",
       "    </tr>\n",
       "    <tr>\n",
       "      <th>81</th>\n",
       "      <td>973</td>\n",
       "      <td>3.0</td>\n",
       "      <td>Peter, Master. Michael J</td>\n",
       "      <td>male</td>\n",
       "      <td>38.5</td>\n",
       "      <td>1.0</td>\n",
       "      <td>1.0</td>\n",
       "      <td>2668</td>\n",
       "      <td>22.3583</td>\n",
       "      <td>C105</td>\n",
       "      <td>C</td>\n",
       "    </tr>\n",
       "  </tbody>\n",
       "</table>\n",
       "<p>100 rows × 11 columns</p>\n",
       "</div>"
      ],
      "text/plain": [
       "     PassengerId  Pclass                            Name     Sex   Age  SibSp  \\\n",
       "400         1292     1.0         Bonnell, Miss. Caroline  female  30.0    0.0   \n",
       "401         1293     2.0                 Gale, Mr. Harry    male  38.0    1.0   \n",
       "402         1294     1.0  Gibson, Miss. Dorothy Winifred  female  22.0    0.0   \n",
       "403         1295     1.0          Carrau, Mr. Jose Pedro    male  17.0    0.0   \n",
       "404         1296     1.0    Frauenthal, Mr. Isaac Gerald    male  43.0    1.0   \n",
       "..           ...     ...                             ...     ...   ...    ...   \n",
       "77           969     3.0        Peter, Master. Michael J    male  38.5    1.0   \n",
       "78           970     3.0        Peter, Master. Michael J    male  38.5    1.0   \n",
       "79           971     3.0        Peter, Master. Michael J    male  38.5    1.0   \n",
       "80           972     3.0        Peter, Master. Michael J    male  38.5    1.0   \n",
       "81           973     3.0        Peter, Master. Michael J    male  38.5    1.0   \n",
       "\n",
       "     Parch  Ticket      Fare Cabin Embarked  \n",
       "400    0.0   36928  164.8667    C7        S  \n",
       "401    0.0   28664   21.0000   D40        S  \n",
       "402    1.0  112378   59.4000   D40        C  \n",
       "403    0.0  113059   47.1000   D40        S  \n",
       "404    0.0   17765   27.7208   D40        C  \n",
       "..     ...     ...       ...   ...      ...  \n",
       "77     1.0    2668   22.3583  C105        C  \n",
       "78     1.0    2668   22.3583  C105        C  \n",
       "79     1.0    2668   22.3583  C105        C  \n",
       "80     1.0    2668   22.3583  C105        C  \n",
       "81     1.0    2668   22.3583  C105        C  \n",
       "\n",
       "[100 rows x 11 columns]"
      ]
     },
     "execution_count": 230,
     "metadata": {},
     "output_type": "execute_result"
    }
   ],
   "source": [
    "x_test.loc[:][400:500]"
   ]
  },
  {
   "cell_type": "code",
   "execution_count": 253,
   "id": "c255a01b",
   "metadata": {},
   "outputs": [
    {
     "data": {
      "text/html": [
       "<div>\n",
       "<style scoped>\n",
       "    .dataframe tbody tr th:only-of-type {\n",
       "        vertical-align: middle;\n",
       "    }\n",
       "\n",
       "    .dataframe tbody tr th {\n",
       "        vertical-align: top;\n",
       "    }\n",
       "\n",
       "    .dataframe thead th {\n",
       "        text-align: right;\n",
       "    }\n",
       "</style>\n",
       "<table border=\"1\" class=\"dataframe\">\n",
       "  <thead>\n",
       "    <tr style=\"text-align: right;\">\n",
       "      <th></th>\n",
       "      <th>survived</th>\n",
       "      <th>not_survived</th>\n",
       "      <th>Sex</th>\n",
       "    </tr>\n",
       "  </thead>\n",
       "  <tbody>\n",
       "    <tr>\n",
       "      <th>0</th>\n",
       "      <td>0.033049</td>\n",
       "      <td>0.966951</td>\n",
       "      <td>male</td>\n",
       "    </tr>\n",
       "    <tr>\n",
       "      <th>1</th>\n",
       "      <td>0.411258</td>\n",
       "      <td>0.588742</td>\n",
       "      <td>female</td>\n",
       "    </tr>\n",
       "    <tr>\n",
       "      <th>2</th>\n",
       "      <td>0.042758</td>\n",
       "      <td>0.957242</td>\n",
       "      <td>female</td>\n",
       "    </tr>\n",
       "    <tr>\n",
       "      <th>3</th>\n",
       "      <td>0.037524</td>\n",
       "      <td>0.962476</td>\n",
       "      <td>female</td>\n",
       "    </tr>\n",
       "    <tr>\n",
       "      <th>4</th>\n",
       "      <td>0.677649</td>\n",
       "      <td>0.322351</td>\n",
       "      <td>male</td>\n",
       "    </tr>\n",
       "    <tr>\n",
       "      <th>...</th>\n",
       "      <td>...</td>\n",
       "      <td>...</td>\n",
       "      <td>...</td>\n",
       "    </tr>\n",
       "    <tr>\n",
       "      <th>831</th>\n",
       "      <td>0.093141</td>\n",
       "      <td>0.906859</td>\n",
       "      <td>male</td>\n",
       "    </tr>\n",
       "    <tr>\n",
       "      <th>832</th>\n",
       "      <td>0.093122</td>\n",
       "      <td>0.906878</td>\n",
       "      <td>male</td>\n",
       "    </tr>\n",
       "    <tr>\n",
       "      <th>833</th>\n",
       "      <td>0.093102</td>\n",
       "      <td>0.906898</td>\n",
       "      <td>male</td>\n",
       "    </tr>\n",
       "    <tr>\n",
       "      <th>834</th>\n",
       "      <td>0.093083</td>\n",
       "      <td>0.906917</td>\n",
       "      <td>male</td>\n",
       "    </tr>\n",
       "    <tr>\n",
       "      <th>835</th>\n",
       "      <td>0.093064</td>\n",
       "      <td>0.906936</td>\n",
       "      <td>female</td>\n",
       "    </tr>\n",
       "  </tbody>\n",
       "</table>\n",
       "<p>836 rows × 3 columns</p>\n",
       "</div>"
      ],
      "text/plain": [
       "     survived  not_survived     Sex\n",
       "0    0.033049      0.966951    male\n",
       "1    0.411258      0.588742  female\n",
       "2    0.042758      0.957242  female\n",
       "3    0.037524      0.962476  female\n",
       "4    0.677649      0.322351    male\n",
       "..        ...           ...     ...\n",
       "831  0.093141      0.906859    male\n",
       "832  0.093122      0.906878    male\n",
       "833  0.093102      0.906898    male\n",
       "834  0.093083      0.906917    male\n",
       "835  0.093064      0.906936  female\n",
       "\n",
       "[836 rows x 3 columns]"
      ]
     },
     "execution_count": 253,
     "metadata": {},
     "output_type": "execute_result"
    }
   ],
   "source": [
    "data['Sex'] = x_train['Sex']\n",
    "data"
   ]
  },
  {
   "cell_type": "code",
   "execution_count": 274,
   "id": "004e6bf4",
   "metadata": {},
   "outputs": [
    {
     "data": {
      "text/plain": [
       "Text(0.5, 0, 'Unknown')"
      ]
     },
     "execution_count": 274,
     "metadata": {},
     "output_type": "execute_result"
    },
    {
     "data": {
      "image/png": "[encoded data removed]",
      "text/plain": [
       "<Figure size 864x360 with 3 Axes>"
      ]
     },
     "metadata": {
      "needs_background": "light"
     },
     "output_type": "display_data"
    }
   ],
   "source": [
    "import matplotlib.pyplot as plt\n",
    "plt.figure(figsize=(12,5))\n",
    "plt.subplot(1,3,1)\n",
    "plt.plot(data.loc[data.Sex=='female']['survived'],data.loc[data.Sex=='female']['not_survived'])\n",
    "plt.plot([0,0,0],[-10,0,100])\n",
    "plt.legend(['survived','not_survived'])\n",
    "plt.xlabel(\"Female\")\n",
    "\n",
    "plt.subplot(1,3,2)\n",
    "plt.plot(data.loc[data.Sex=='male']['survived'],data.loc[data.Sex=='male']['not_survived'])\n",
    "plt.plot([0,0,0],[-10,0,100])\n",
    "plt.legend(['survived','not_survived'])\n",
    "plt.xlabel(\"Male\")\n",
    "\n",
    "plt.subplot(1,3,3)\n",
    "plt.plot(data.loc[data.Sex=='NaN']['survived'],data.loc[data.Sex=='NaN']['not_survived'])\n",
    "plt.plot([0,0,0],[-10,0,100])\n",
    "plt.legend(['survived','not_survived'])\n",
    "plt.xlabel(\"Unknown\")\n"
   ]
  },
  {
   "cell_type": "code",
   "execution_count": null,
   "id": "de87f3ca",
   "metadata": {},
   "outputs": [],
   "source": []
  },
  {
   "cell_type": "code",
   "execution_count": null,
   "id": "a044073e",
   "metadata": {},
   "outputs": [],
   "source": []
  }
 ],
 "metadata": {
  "kernelspec": {
   "display_name": "Python 3 (ipykernel)",
   "language": "python",
   "name": "python3"
  },
  "language_info": {
   "codemirror_mode": {
    "name": "ipython",
    "version": 3
   },
   "file_extension": ".py",
   "mimetype": "text/x-python",
   "name": "python",
   "nbconvert_exporter": "python",
   "pygments_lexer": "ipython3",
   "version": "3.8.10"
  }
 },
 "nbformat": 4,
 "nbformat_minor": 5
}
